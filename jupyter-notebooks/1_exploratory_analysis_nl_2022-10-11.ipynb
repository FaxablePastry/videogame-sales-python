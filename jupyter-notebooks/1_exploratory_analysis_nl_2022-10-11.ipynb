{
 "cells": [
  {
   "cell_type": "markdown",
   "source": [
    "## Exploratory Testing - Nathan Lock (2022-10-11)"
   ],
   "metadata": {
    "collapsed": false
   }
  },
  {
   "cell_type": "code",
   "execution_count": 6,
   "outputs": [],
   "source": [
    "import pandas as pd\n",
    "import matplotlib.pyplot as plt"
   ],
   "metadata": {
    "collapsed": false
   }
  },
  {
   "cell_type": "markdown",
   "source": [
    "Importing data from bin and removing columns which are no longer required."
   ],
   "metadata": {
    "collapsed": false
   }
  },
  {
   "cell_type": "code",
   "execution_count": 12,
   "outputs": [
    {
     "name": "stdout",
     "output_type": "stream",
     "text": [
      "                       Name  Global_Sales  Year_of_Release\n",
      "0                Wii Sports         82.53           2006.0\n",
      "1         Super Mario Bros.         40.24           1985.0\n",
      "2            Mario Kart Wii         35.52           2008.0\n",
      "3         Wii Sports Resort         32.77           2009.0\n",
      "4  Pokemon Red/Pokemon Blue         31.37           1996.0\n"
     ]
    }
   ],
   "source": [
    "df = pd.read_csv(\"../bin/video_Games_Sales_as_at_22_Dec_2016.csv\")\n",
    "df = df[[\"Name\", \"Global_Sales\", \"Year_of_Release\"]].dropna()\n",
    "print(df.head())"
   ],
   "metadata": {
    "collapsed": false
   }
  },
  {
   "cell_type": "code",
   "execution_count": 8,
   "metadata": {},
   "outputs": [
    {
     "name": "stderr",
     "output_type": "stream",
     "text": [
      "C:\\Users\\Nathan\\AppData\\Local\\Temp\\ipykernel_8592\\2438265331.py:1: FutureWarning: The default value of numeric_only in DataFrame.corr is deprecated. In a future version, it will default to False. Select only valid columns or specify the value of numeric_only to silence this warning.\n",
      "  plt.matshow(df.corr())\n"
     ]
    },
    {
     "data": {
      "text/plain": "<Figure size 480x480 with 1 Axes>",
      "image/png": "[encoded data removed]"
     },
     "metadata": {},
     "output_type": "display_data"
    }
   ],
   "source": [
    "plt.matshow(df.corr())\n",
    "plt.show()"
   ]
  }
 ],
 "metadata": {
  "kernelspec": {
   "display_name": "Python 3",
   "language": "python",
   "name": "python3"
  },
  "language_info": {
   "codemirror_mode": {
    "name": "ipython",
    "version": 3
   },
   "file_extension": ".py",
   "mimetype": "text/x-python",
   "name": "python",
   "nbconvert_exporter": "python",
   "pygments_lexer": "ipython3",
   "version": "3.8.3"
  }
 },
 "nbformat": 4,
 "nbformat_minor": 4
}
